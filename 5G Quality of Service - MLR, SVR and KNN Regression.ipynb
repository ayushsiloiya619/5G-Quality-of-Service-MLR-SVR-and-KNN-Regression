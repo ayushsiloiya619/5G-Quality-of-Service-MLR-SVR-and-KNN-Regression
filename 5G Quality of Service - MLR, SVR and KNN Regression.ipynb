{
 "cells": [
  {
   "cell_type": "code",
   "execution_count": 1,
   "id": "909cebd4",
   "metadata": {},
   "outputs": [],
   "source": [
    "import pandas as pd\n",
    "import numpy as np\n",
    "import matplotlib.pyplot as plt\n",
    "import seaborn as sns"
   ]
  },
  {
   "cell_type": "code",
   "execution_count": 2,
   "id": "32fd5d9e",
   "metadata": {},
   "outputs": [],
   "source": [
    "df = pd.read_csv('Quality of Service 5G.csv')"
   ]
  },
  {
   "cell_type": "code",
   "execution_count": 3,
   "id": "e2e34139",
   "metadata": {},
   "outputs": [
    {
     "data": {
      "text/html": [
       "<div>\n",
       "<style scoped>\n",
       "    .dataframe tbody tr th:only-of-type {\n",
       "        vertical-align: middle;\n",
       "    }\n",
       "\n",
       "    .dataframe tbody tr th {\n",
       "        vertical-align: top;\n",
       "    }\n",
       "\n",
       "    .dataframe thead th {\n",
       "        text-align: right;\n",
       "    }\n",
       "</style>\n",
       "<table border=\"1\" class=\"dataframe\">\n",
       "  <thead>\n",
       "    <tr style=\"text-align: right;\">\n",
       "      <th></th>\n",
       "      <th>Timestamp</th>\n",
       "      <th>User_ID</th>\n",
       "      <th>Application_Type</th>\n",
       "      <th>Signal_Strength</th>\n",
       "      <th>Latency</th>\n",
       "      <th>Required_Bandwidth</th>\n",
       "      <th>Allocated_Bandwidth</th>\n",
       "      <th>Resource_Allocation</th>\n",
       "    </tr>\n",
       "  </thead>\n",
       "  <tbody>\n",
       "    <tr>\n",
       "      <th>0</th>\n",
       "      <td>9/3/2023 10:00</td>\n",
       "      <td>User_1</td>\n",
       "      <td>Video_Call</td>\n",
       "      <td>-75 dBm</td>\n",
       "      <td>30 ms</td>\n",
       "      <td>10 Mbps</td>\n",
       "      <td>15 Mbps</td>\n",
       "      <td>70%</td>\n",
       "    </tr>\n",
       "    <tr>\n",
       "      <th>1</th>\n",
       "      <td>9/3/2023 10:00</td>\n",
       "      <td>User_2</td>\n",
       "      <td>Voice_Call</td>\n",
       "      <td>-80 dBm</td>\n",
       "      <td>20 ms</td>\n",
       "      <td>100 Kbps</td>\n",
       "      <td>120 Kbps</td>\n",
       "      <td>80%</td>\n",
       "    </tr>\n",
       "    <tr>\n",
       "      <th>2</th>\n",
       "      <td>9/3/2023 10:00</td>\n",
       "      <td>User_3</td>\n",
       "      <td>Streaming</td>\n",
       "      <td>-85 dBm</td>\n",
       "      <td>40 ms</td>\n",
       "      <td>5 Mbps</td>\n",
       "      <td>6 Mbps</td>\n",
       "      <td>75%</td>\n",
       "    </tr>\n",
       "    <tr>\n",
       "      <th>3</th>\n",
       "      <td>9/3/2023 10:00</td>\n",
       "      <td>User_4</td>\n",
       "      <td>Emergency_Service</td>\n",
       "      <td>-70 dBm</td>\n",
       "      <td>10 ms</td>\n",
       "      <td>1 Mbps</td>\n",
       "      <td>1.5 Mbps</td>\n",
       "      <td>90%</td>\n",
       "    </tr>\n",
       "    <tr>\n",
       "      <th>4</th>\n",
       "      <td>9/3/2023 10:00</td>\n",
       "      <td>User_5</td>\n",
       "      <td>Online_Gaming</td>\n",
       "      <td>-78 dBm</td>\n",
       "      <td>25 ms</td>\n",
       "      <td>2 Mbps</td>\n",
       "      <td>3 Mbps</td>\n",
       "      <td>85%</td>\n",
       "    </tr>\n",
       "    <tr>\n",
       "      <th>...</th>\n",
       "      <td>...</td>\n",
       "      <td>...</td>\n",
       "      <td>...</td>\n",
       "      <td>...</td>\n",
       "      <td>...</td>\n",
       "      <td>...</td>\n",
       "      <td>...</td>\n",
       "      <td>...</td>\n",
       "    </tr>\n",
       "    <tr>\n",
       "      <th>395</th>\n",
       "      <td>9/3/2023 10:06</td>\n",
       "      <td>User_396</td>\n",
       "      <td>Streaming</td>\n",
       "      <td>-110 dBm</td>\n",
       "      <td>61 ms</td>\n",
       "      <td>1.3 Mbps</td>\n",
       "      <td>1.8 Mbps</td>\n",
       "      <td>85%</td>\n",
       "    </tr>\n",
       "    <tr>\n",
       "      <th>396</th>\n",
       "      <td>9/3/2023 10:06</td>\n",
       "      <td>User_397</td>\n",
       "      <td>Video_Call</td>\n",
       "      <td>-40 dBm</td>\n",
       "      <td>53 ms</td>\n",
       "      <td>14.5 Mbps</td>\n",
       "      <td>15.8 Mbps</td>\n",
       "      <td>75%</td>\n",
       "    </tr>\n",
       "    <tr>\n",
       "      <th>397</th>\n",
       "      <td>9/3/2023 10:06</td>\n",
       "      <td>User_398</td>\n",
       "      <td>Video_Streaming</td>\n",
       "      <td>-113 dBm</td>\n",
       "      <td>58 ms</td>\n",
       "      <td>1.0 Mbps</td>\n",
       "      <td>1.4 Mbps</td>\n",
       "      <td>70%</td>\n",
       "    </tr>\n",
       "    <tr>\n",
       "      <th>398</th>\n",
       "      <td>9/3/2023 10:06</td>\n",
       "      <td>User_399</td>\n",
       "      <td>Emergency_Service</td>\n",
       "      <td>-40 dBm</td>\n",
       "      <td>5 ms</td>\n",
       "      <td>0.4 Mbps</td>\n",
       "      <td>0.4 Mbps</td>\n",
       "      <td>70%</td>\n",
       "    </tr>\n",
       "    <tr>\n",
       "      <th>399</th>\n",
       "      <td>9/3/2023 10:06</td>\n",
       "      <td>User_400</td>\n",
       "      <td>Web_Browsing</td>\n",
       "      <td>-113 dBm</td>\n",
       "      <td>0 ms</td>\n",
       "      <td>0.1 Mbps</td>\n",
       "      <td>0.1 Mbps</td>\n",
       "      <td>70%</td>\n",
       "    </tr>\n",
       "  </tbody>\n",
       "</table>\n",
       "<p>400 rows × 8 columns</p>\n",
       "</div>"
      ],
      "text/plain": [
       "          Timestamp   User_ID   Application_Type Signal_Strength Latency  \\\n",
       "0    9/3/2023 10:00    User_1         Video_Call         -75 dBm   30 ms   \n",
       "1    9/3/2023 10:00    User_2         Voice_Call         -80 dBm   20 ms   \n",
       "2    9/3/2023 10:00    User_3          Streaming         -85 dBm   40 ms   \n",
       "3    9/3/2023 10:00    User_4  Emergency_Service         -70 dBm   10 ms   \n",
       "4    9/3/2023 10:00    User_5      Online_Gaming         -78 dBm   25 ms   \n",
       "..              ...       ...                ...             ...     ...   \n",
       "395  9/3/2023 10:06  User_396          Streaming        -110 dBm   61 ms   \n",
       "396  9/3/2023 10:06  User_397         Video_Call         -40 dBm   53 ms   \n",
       "397  9/3/2023 10:06  User_398    Video_Streaming        -113 dBm   58 ms   \n",
       "398  9/3/2023 10:06  User_399  Emergency_Service         -40 dBm    5 ms   \n",
       "399  9/3/2023 10:06  User_400       Web_Browsing        -113 dBm    0 ms   \n",
       "\n",
       "    Required_Bandwidth Allocated_Bandwidth Resource_Allocation  \n",
       "0              10 Mbps             15 Mbps                 70%  \n",
       "1             100 Kbps            120 Kbps                 80%  \n",
       "2               5 Mbps              6 Mbps                 75%  \n",
       "3               1 Mbps            1.5 Mbps                 90%  \n",
       "4               2 Mbps              3 Mbps                 85%  \n",
       "..                 ...                 ...                 ...  \n",
       "395           1.3 Mbps            1.8 Mbps                 85%  \n",
       "396          14.5 Mbps           15.8 Mbps                 75%  \n",
       "397           1.0 Mbps            1.4 Mbps                 70%  \n",
       "398           0.4 Mbps            0.4 Mbps                 70%  \n",
       "399           0.1 Mbps            0.1 Mbps                 70%  \n",
       "\n",
       "[400 rows x 8 columns]"
      ]
     },
     "execution_count": 3,
     "metadata": {},
     "output_type": "execute_result"
    }
   ],
   "source": [
    "df"
   ]
  },
  {
   "cell_type": "markdown",
   "id": "2b8a805b",
   "metadata": {},
   "source": [
    "1. Data Pre-Processing :"
   ]
  },
  {
   "cell_type": "code",
   "execution_count": 4,
   "id": "38b2f660",
   "metadata": {},
   "outputs": [
    {
     "name": "stdout",
     "output_type": "stream",
     "text": [
      "<class 'pandas.core.frame.DataFrame'>\n",
      "RangeIndex: 400 entries, 0 to 399\n",
      "Data columns (total 8 columns):\n",
      " #   Column               Non-Null Count  Dtype \n",
      "---  ------               --------------  ----- \n",
      " 0   Timestamp            400 non-null    object\n",
      " 1   User_ID              400 non-null    object\n",
      " 2   Application_Type     400 non-null    object\n",
      " 3   Signal_Strength      400 non-null    object\n",
      " 4   Latency              400 non-null    object\n",
      " 5   Required_Bandwidth   400 non-null    object\n",
      " 6   Allocated_Bandwidth  400 non-null    object\n",
      " 7   Resource_Allocation  400 non-null    object\n",
      "dtypes: object(8)\n",
      "memory usage: 25.1+ KB\n"
     ]
    }
   ],
   "source": [
    "df.info()"
   ]
  },
  {
   "cell_type": "code",
   "execution_count": 5,
   "id": "209a9971",
   "metadata": {},
   "outputs": [
    {
     "data": {
      "text/plain": [
       "Timestamp              0\n",
       "User_ID                0\n",
       "Application_Type       0\n",
       "Signal_Strength        0\n",
       "Latency                0\n",
       "Required_Bandwidth     0\n",
       "Allocated_Bandwidth    0\n",
       "Resource_Allocation    0\n",
       "dtype: int64"
      ]
     },
     "execution_count": 5,
     "metadata": {},
     "output_type": "execute_result"
    }
   ],
   "source": [
    "df.isna().sum()"
   ]
  },
  {
   "cell_type": "code",
   "execution_count": 6,
   "id": "69bb0aeb",
   "metadata": {},
   "outputs": [
    {
     "data": {
      "text/plain": [
       "0"
      ]
     },
     "execution_count": 6,
     "metadata": {},
     "output_type": "execute_result"
    }
   ],
   "source": [
    "df.duplicated().sum()"
   ]
  },
  {
   "cell_type": "code",
   "execution_count": 7,
   "id": "5569755a",
   "metadata": {},
   "outputs": [
    {
     "data": {
      "text/plain": [
       "array(['Video_Call', 'Voice_Call', 'Streaming', 'Emergency_Service',\n",
       "       'Online_Gaming', 'Background_Download', 'Web_Browsing',\n",
       "       'IoT_Temperature', 'Video_Streaming', 'File_Download', 'VoIP_Call'],\n",
       "      dtype=object)"
      ]
     },
     "execution_count": 7,
     "metadata": {},
     "output_type": "execute_result"
    }
   ],
   "source": [
    "df['Application_Type'].unique()"
   ]
  },
  {
   "cell_type": "markdown",
   "id": "980d8db4",
   "metadata": {},
   "source": [
    "df['Application_Type']\n",
    "\n",
    "Contains the following unique values: ['Video_Call', 'Voice_Call', 'Streaming', 'Emergency_Service', 'Online_Gaming', 'Background_Download', 'Web_Browsing', 'IoT_Temperature', 'Video_Streaming', 'File_Download', 'VoIP_Call']\n",
    "\n",
    "These all categories can be arranged in increasing Ordered form of Resource requirement:\n",
    "\n",
    "## IoT_Temperature\n",
    "## Web_Browsing\n",
    "## VoIP_Call\n",
    "## Video_Call\n",
    "## File_Download\n",
    "## Background_Download\n",
    "## Streaming\n",
    "## Video_Streaming\n",
    "## Online_Gaming\n",
    "## Emergency_Service"
   ]
  },
  {
   "cell_type": "code",
   "execution_count": 8,
   "id": "b256c3f9",
   "metadata": {},
   "outputs": [
    {
     "name": "stdout",
     "output_type": "stream",
     "text": [
      "['Video_Call' 'Voice_Call' 'Streaming' 'Emergency_Service' 'Online_Gaming'\n",
      " 'Background_Download' 'Web_Browsing' 'IoT_Temperature' 'Video_Streaming'\n",
      " 'File_Download' 'VoIP_Call']\n",
      "[ 4.  3.  7. 10.  9.  6.  1.  0.  8.  5.  2.]\n"
     ]
    }
   ],
   "source": [
    "from sklearn.preprocessing import OrdinalEncoder\n",
    "\n",
    "\n",
    "data = [['IoT_Temperature', 'Web_Browsing', 'VoIP_Call', 'Voice_Call', 'Video_Call', 'File_Download',\n",
    "    'Background_Download', 'Streaming', 'Video_Streaming', 'Online_Gaming', 'Emergency_Service']]\n",
    "\n",
    "encoder = OrdinalEncoder(categories=data)\n",
    "\n",
    "print(df['Application_Type'].unique())\n",
    "df['Application_Type'] = encoder.fit_transform(np.array(df['Application_Type']).reshape(-1,1))\n",
    "print(df['Application_Type'].unique())"
   ]
  },
  {
   "cell_type": "code",
   "execution_count": 9,
   "id": "9c42ee9e",
   "metadata": {},
   "outputs": [],
   "source": [
    "df['Resource_Allocation'] = df['Resource_Allocation'].str.replace('%','').astype('int')"
   ]
  },
  {
   "cell_type": "code",
   "execution_count": 10,
   "id": "cd28b236",
   "metadata": {},
   "outputs": [],
   "source": [
    "df['User_ID'] = df['User_ID'].str.replace('User_','').astype('int')"
   ]
  },
  {
   "cell_type": "code",
   "execution_count": 11,
   "id": "db04b218",
   "metadata": {},
   "outputs": [],
   "source": [
    "def mbps_to_kbps(value):  \n",
    "    if 'Mbps' in value:\n",
    "        n = float(value.replace(' Mbps',''))\n",
    "        return str(n*1000)+' Kbps'\n",
    "    else:\n",
    "        return value\n",
    "\n",
    "\n",
    "df['Required_Bandwidth'] = df['Required_Bandwidth'].map(mbps_to_kbps)\n",
    "df['Allocated_Bandwidth'] = df['Allocated_Bandwidth'].map(mbps_to_kbps)"
   ]
  },
  {
   "cell_type": "markdown",
   "id": "d86eef2b",
   "metadata": {},
   "source": [
    "# Bandwidth contains 2 units : Kbps and Mbps, where Kbps=1000*Mbps\n",
    "# Mbps : Convert to Kbps\n",
    "# Kbps : Leave as it is"
   ]
  },
  {
   "cell_type": "code",
   "execution_count": 12,
   "id": "18f436a1",
   "metadata": {},
   "outputs": [],
   "source": [
    "df['Required_Bandwidth'] = df['Required_Bandwidth'].str.replace(' Kbps','').astype('float')\n",
    "df['Allocated_Bandwidth'] = df['Allocated_Bandwidth'].str.replace(' Kbps','').astype('float')"
   ]
  },
  {
   "cell_type": "code",
   "execution_count": 13,
   "id": "19b36e2c",
   "metadata": {},
   "outputs": [],
   "source": [
    "df['Latency'] = df['Latency'].str.replace(' ms','').astype('int')"
   ]
  },
  {
   "cell_type": "code",
   "execution_count": 14,
   "id": "07cc7e9d",
   "metadata": {},
   "outputs": [],
   "source": [
    "df['Signal_Strength'] = df['Signal_Strength'].str.replace(' dBm','').astype('int')"
   ]
  },
  {
   "cell_type": "code",
   "execution_count": 15,
   "id": "793ffc0a",
   "metadata": {},
   "outputs": [],
   "source": [
    "df['Timestamp'] = pd.to_datetime(df['Timestamp'])"
   ]
  },
  {
   "cell_type": "code",
   "execution_count": 16,
   "id": "e4c1c9f0",
   "metadata": {},
   "outputs": [
    {
     "name": "stdout",
     "output_type": "stream",
     "text": [
      "<class 'pandas.core.frame.DataFrame'>\n",
      "RangeIndex: 400 entries, 0 to 399\n",
      "Data columns (total 8 columns):\n",
      " #   Column               Non-Null Count  Dtype         \n",
      "---  ------               --------------  -----         \n",
      " 0   Timestamp            400 non-null    datetime64[ns]\n",
      " 1   User_ID              400 non-null    int32         \n",
      " 2   Application_Type     400 non-null    float64       \n",
      " 3   Signal_Strength      400 non-null    int32         \n",
      " 4   Latency              400 non-null    int32         \n",
      " 5   Required_Bandwidth   400 non-null    float64       \n",
      " 6   Allocated_Bandwidth  400 non-null    float64       \n",
      " 7   Resource_Allocation  400 non-null    int32         \n",
      "dtypes: datetime64[ns](1), float64(3), int32(4)\n",
      "memory usage: 18.9 KB\n"
     ]
    }
   ],
   "source": [
    "df.info()"
   ]
  },
  {
   "cell_type": "code",
   "execution_count": 17,
   "id": "8af22334",
   "metadata": {},
   "outputs": [
    {
     "data": {
      "text/html": [
       "<div>\n",
       "<style scoped>\n",
       "    .dataframe tbody tr th:only-of-type {\n",
       "        vertical-align: middle;\n",
       "    }\n",
       "\n",
       "    .dataframe tbody tr th {\n",
       "        vertical-align: top;\n",
       "    }\n",
       "\n",
       "    .dataframe thead th {\n",
       "        text-align: right;\n",
       "    }\n",
       "</style>\n",
       "<table border=\"1\" class=\"dataframe\">\n",
       "  <thead>\n",
       "    <tr style=\"text-align: right;\">\n",
       "      <th></th>\n",
       "      <th>Timestamp</th>\n",
       "      <th>User_ID</th>\n",
       "      <th>Application_Type</th>\n",
       "      <th>Signal_Strength</th>\n",
       "      <th>Latency</th>\n",
       "      <th>Required_Bandwidth</th>\n",
       "      <th>Allocated_Bandwidth</th>\n",
       "      <th>Resource_Allocation</th>\n",
       "    </tr>\n",
       "  </thead>\n",
       "  <tbody>\n",
       "    <tr>\n",
       "      <th>0</th>\n",
       "      <td>2023-09-03 10:00:00</td>\n",
       "      <td>1</td>\n",
       "      <td>4.0</td>\n",
       "      <td>-75</td>\n",
       "      <td>30</td>\n",
       "      <td>10000.0</td>\n",
       "      <td>15000.0</td>\n",
       "      <td>70</td>\n",
       "    </tr>\n",
       "    <tr>\n",
       "      <th>1</th>\n",
       "      <td>2023-09-03 10:00:00</td>\n",
       "      <td>2</td>\n",
       "      <td>3.0</td>\n",
       "      <td>-80</td>\n",
       "      <td>20</td>\n",
       "      <td>100.0</td>\n",
       "      <td>120.0</td>\n",
       "      <td>80</td>\n",
       "    </tr>\n",
       "    <tr>\n",
       "      <th>2</th>\n",
       "      <td>2023-09-03 10:00:00</td>\n",
       "      <td>3</td>\n",
       "      <td>7.0</td>\n",
       "      <td>-85</td>\n",
       "      <td>40</td>\n",
       "      <td>5000.0</td>\n",
       "      <td>6000.0</td>\n",
       "      <td>75</td>\n",
       "    </tr>\n",
       "    <tr>\n",
       "      <th>3</th>\n",
       "      <td>2023-09-03 10:00:00</td>\n",
       "      <td>4</td>\n",
       "      <td>10.0</td>\n",
       "      <td>-70</td>\n",
       "      <td>10</td>\n",
       "      <td>1000.0</td>\n",
       "      <td>1500.0</td>\n",
       "      <td>90</td>\n",
       "    </tr>\n",
       "    <tr>\n",
       "      <th>4</th>\n",
       "      <td>2023-09-03 10:00:00</td>\n",
       "      <td>5</td>\n",
       "      <td>9.0</td>\n",
       "      <td>-78</td>\n",
       "      <td>25</td>\n",
       "      <td>2000.0</td>\n",
       "      <td>3000.0</td>\n",
       "      <td>85</td>\n",
       "    </tr>\n",
       "  </tbody>\n",
       "</table>\n",
       "</div>"
      ],
      "text/plain": [
       "            Timestamp  User_ID  Application_Type  Signal_Strength  Latency  \\\n",
       "0 2023-09-03 10:00:00        1               4.0              -75       30   \n",
       "1 2023-09-03 10:00:00        2               3.0              -80       20   \n",
       "2 2023-09-03 10:00:00        3               7.0              -85       40   \n",
       "3 2023-09-03 10:00:00        4              10.0              -70       10   \n",
       "4 2023-09-03 10:00:00        5               9.0              -78       25   \n",
       "\n",
       "   Required_Bandwidth  Allocated_Bandwidth  Resource_Allocation  \n",
       "0             10000.0              15000.0                   70  \n",
       "1               100.0                120.0                   80  \n",
       "2              5000.0               6000.0                   75  \n",
       "3              1000.0               1500.0                   90  \n",
       "4              2000.0               3000.0                   85  "
      ]
     },
     "execution_count": 17,
     "metadata": {},
     "output_type": "execute_result"
    }
   ],
   "source": [
    "df.head()"
   ]
  },
  {
   "cell_type": "code",
   "execution_count": 18,
   "id": "e9ffad55",
   "metadata": {},
   "outputs": [
    {
     "data": {
      "text/html": [
       "<div>\n",
       "<style scoped>\n",
       "    .dataframe tbody tr th:only-of-type {\n",
       "        vertical-align: middle;\n",
       "    }\n",
       "\n",
       "    .dataframe tbody tr th {\n",
       "        vertical-align: top;\n",
       "    }\n",
       "\n",
       "    .dataframe thead th {\n",
       "        text-align: right;\n",
       "    }\n",
       "</style>\n",
       "<table border=\"1\" class=\"dataframe\">\n",
       "  <thead>\n",
       "    <tr style=\"text-align: right;\">\n",
       "      <th></th>\n",
       "      <th>Timestamp</th>\n",
       "      <th>User_ID</th>\n",
       "      <th>Application_Type</th>\n",
       "      <th>Signal_Strength</th>\n",
       "      <th>Latency</th>\n",
       "      <th>Required_Bandwidth</th>\n",
       "      <th>Allocated_Bandwidth</th>\n",
       "      <th>Resource_Allocation</th>\n",
       "    </tr>\n",
       "  </thead>\n",
       "  <tbody>\n",
       "    <tr>\n",
       "      <th>395</th>\n",
       "      <td>2023-09-03 10:06:00</td>\n",
       "      <td>396</td>\n",
       "      <td>7.0</td>\n",
       "      <td>-110</td>\n",
       "      <td>61</td>\n",
       "      <td>1300.0</td>\n",
       "      <td>1800.0</td>\n",
       "      <td>85</td>\n",
       "    </tr>\n",
       "    <tr>\n",
       "      <th>396</th>\n",
       "      <td>2023-09-03 10:06:00</td>\n",
       "      <td>397</td>\n",
       "      <td>4.0</td>\n",
       "      <td>-40</td>\n",
       "      <td>53</td>\n",
       "      <td>14500.0</td>\n",
       "      <td>15800.0</td>\n",
       "      <td>75</td>\n",
       "    </tr>\n",
       "    <tr>\n",
       "      <th>397</th>\n",
       "      <td>2023-09-03 10:06:00</td>\n",
       "      <td>398</td>\n",
       "      <td>8.0</td>\n",
       "      <td>-113</td>\n",
       "      <td>58</td>\n",
       "      <td>1000.0</td>\n",
       "      <td>1400.0</td>\n",
       "      <td>70</td>\n",
       "    </tr>\n",
       "    <tr>\n",
       "      <th>398</th>\n",
       "      <td>2023-09-03 10:06:00</td>\n",
       "      <td>399</td>\n",
       "      <td>10.0</td>\n",
       "      <td>-40</td>\n",
       "      <td>5</td>\n",
       "      <td>400.0</td>\n",
       "      <td>400.0</td>\n",
       "      <td>70</td>\n",
       "    </tr>\n",
       "    <tr>\n",
       "      <th>399</th>\n",
       "      <td>2023-09-03 10:06:00</td>\n",
       "      <td>400</td>\n",
       "      <td>1.0</td>\n",
       "      <td>-113</td>\n",
       "      <td>0</td>\n",
       "      <td>100.0</td>\n",
       "      <td>100.0</td>\n",
       "      <td>70</td>\n",
       "    </tr>\n",
       "  </tbody>\n",
       "</table>\n",
       "</div>"
      ],
      "text/plain": [
       "              Timestamp  User_ID  Application_Type  Signal_Strength  Latency  \\\n",
       "395 2023-09-03 10:06:00      396               7.0             -110       61   \n",
       "396 2023-09-03 10:06:00      397               4.0              -40       53   \n",
       "397 2023-09-03 10:06:00      398               8.0             -113       58   \n",
       "398 2023-09-03 10:06:00      399              10.0              -40        5   \n",
       "399 2023-09-03 10:06:00      400               1.0             -113        0   \n",
       "\n",
       "     Required_Bandwidth  Allocated_Bandwidth  Resource_Allocation  \n",
       "395              1300.0               1800.0                   85  \n",
       "396             14500.0              15800.0                   75  \n",
       "397              1000.0               1400.0                   70  \n",
       "398               400.0                400.0                   70  \n",
       "399               100.0                100.0                   70  "
      ]
     },
     "execution_count": 18,
     "metadata": {},
     "output_type": "execute_result"
    }
   ],
   "source": [
    "df.tail()"
   ]
  },
  {
   "cell_type": "code",
   "execution_count": 19,
   "id": "bde14be9",
   "metadata": {},
   "outputs": [
    {
     "data": {
      "text/html": [
       "<div>\n",
       "<style scoped>\n",
       "    .dataframe tbody tr th:only-of-type {\n",
       "        vertical-align: middle;\n",
       "    }\n",
       "\n",
       "    .dataframe tbody tr th {\n",
       "        vertical-align: top;\n",
       "    }\n",
       "\n",
       "    .dataframe thead th {\n",
       "        text-align: right;\n",
       "    }\n",
       "</style>\n",
       "<table border=\"1\" class=\"dataframe\">\n",
       "  <thead>\n",
       "    <tr style=\"text-align: right;\">\n",
       "      <th></th>\n",
       "      <th>User_ID</th>\n",
       "      <th>Application_Type</th>\n",
       "      <th>Signal_Strength</th>\n",
       "      <th>Latency</th>\n",
       "      <th>Required_Bandwidth</th>\n",
       "      <th>Allocated_Bandwidth</th>\n",
       "      <th>Resource_Allocation</th>\n",
       "    </tr>\n",
       "  </thead>\n",
       "  <tbody>\n",
       "    <tr>\n",
       "      <th>count</th>\n",
       "      <td>400.000000</td>\n",
       "      <td>400.000000</td>\n",
       "      <td>400.000000</td>\n",
       "      <td>400.000000</td>\n",
       "      <td>400.000000</td>\n",
       "      <td>400.00000</td>\n",
       "      <td>400.000000</td>\n",
       "    </tr>\n",
       "    <tr>\n",
       "      <th>mean</th>\n",
       "      <td>200.500000</td>\n",
       "      <td>5.605000</td>\n",
       "      <td>-80.495000</td>\n",
       "      <td>33.825000</td>\n",
       "      <td>3135.512500</td>\n",
       "      <td>3502.38000</td>\n",
       "      <td>74.712500</td>\n",
       "    </tr>\n",
       "    <tr>\n",
       "      <th>std</th>\n",
       "      <td>115.614301</td>\n",
       "      <td>3.156562</td>\n",
       "      <td>20.701119</td>\n",
       "      <td>21.122139</td>\n",
       "      <td>3984.096715</td>\n",
       "      <td>4460.80117</td>\n",
       "      <td>8.982291</td>\n",
       "    </tr>\n",
       "    <tr>\n",
       "      <th>min</th>\n",
       "      <td>1.000000</td>\n",
       "      <td>0.000000</td>\n",
       "      <td>-123.000000</td>\n",
       "      <td>0.000000</td>\n",
       "      <td>0.000000</td>\n",
       "      <td>0.00000</td>\n",
       "      <td>50.000000</td>\n",
       "    </tr>\n",
       "    <tr>\n",
       "      <th>25%</th>\n",
       "      <td>100.750000</td>\n",
       "      <td>2.000000</td>\n",
       "      <td>-98.000000</td>\n",
       "      <td>21.750000</td>\n",
       "      <td>417.500000</td>\n",
       "      <td>417.50000</td>\n",
       "      <td>70.000000</td>\n",
       "    </tr>\n",
       "    <tr>\n",
       "      <th>50%</th>\n",
       "      <td>200.500000</td>\n",
       "      <td>6.000000</td>\n",
       "      <td>-83.000000</td>\n",
       "      <td>31.000000</td>\n",
       "      <td>1200.000000</td>\n",
       "      <td>1350.00000</td>\n",
       "      <td>70.000000</td>\n",
       "    </tr>\n",
       "    <tr>\n",
       "      <th>75%</th>\n",
       "      <td>300.250000</td>\n",
       "      <td>8.000000</td>\n",
       "      <td>-64.000000</td>\n",
       "      <td>45.000000</td>\n",
       "      <td>4100.000000</td>\n",
       "      <td>4425.00000</td>\n",
       "      <td>80.000000</td>\n",
       "    </tr>\n",
       "    <tr>\n",
       "      <th>max</th>\n",
       "      <td>400.000000</td>\n",
       "      <td>10.000000</td>\n",
       "      <td>-40.000000</td>\n",
       "      <td>110.000000</td>\n",
       "      <td>14500.000000</td>\n",
       "      <td>15800.00000</td>\n",
       "      <td>90.000000</td>\n",
       "    </tr>\n",
       "  </tbody>\n",
       "</table>\n",
       "</div>"
      ],
      "text/plain": [
       "          User_ID  Application_Type  Signal_Strength     Latency  \\\n",
       "count  400.000000        400.000000       400.000000  400.000000   \n",
       "mean   200.500000          5.605000       -80.495000   33.825000   \n",
       "std    115.614301          3.156562        20.701119   21.122139   \n",
       "min      1.000000          0.000000      -123.000000    0.000000   \n",
       "25%    100.750000          2.000000       -98.000000   21.750000   \n",
       "50%    200.500000          6.000000       -83.000000   31.000000   \n",
       "75%    300.250000          8.000000       -64.000000   45.000000   \n",
       "max    400.000000         10.000000       -40.000000  110.000000   \n",
       "\n",
       "       Required_Bandwidth  Allocated_Bandwidth  Resource_Allocation  \n",
       "count          400.000000            400.00000           400.000000  \n",
       "mean          3135.512500           3502.38000            74.712500  \n",
       "std           3984.096715           4460.80117             8.982291  \n",
       "min              0.000000              0.00000            50.000000  \n",
       "25%            417.500000            417.50000            70.000000  \n",
       "50%           1200.000000           1350.00000            70.000000  \n",
       "75%           4100.000000           4425.00000            80.000000  \n",
       "max          14500.000000          15800.00000            90.000000  "
      ]
     },
     "execution_count": 19,
     "metadata": {},
     "output_type": "execute_result"
    }
   ],
   "source": [
    "df.describe()"
   ]
  },
  {
   "cell_type": "code",
   "execution_count": 20,
   "id": "6d9940bb",
   "metadata": {},
   "outputs": [
    {
     "data": {
      "text/html": [
       "<div>\n",
       "<style scoped>\n",
       "    .dataframe tbody tr th:only-of-type {\n",
       "        vertical-align: middle;\n",
       "    }\n",
       "\n",
       "    .dataframe tbody tr th {\n",
       "        vertical-align: top;\n",
       "    }\n",
       "\n",
       "    .dataframe thead th {\n",
       "        text-align: right;\n",
       "    }\n",
       "</style>\n",
       "<table border=\"1\" class=\"dataframe\">\n",
       "  <thead>\n",
       "    <tr style=\"text-align: right;\">\n",
       "      <th></th>\n",
       "      <th>Timestamp</th>\n",
       "      <th>Application_Type</th>\n",
       "      <th>Signal_Strength</th>\n",
       "      <th>Latency</th>\n",
       "      <th>Required_Bandwidth</th>\n",
       "      <th>Allocated_Bandwidth</th>\n",
       "      <th>Resource_Allocation</th>\n",
       "    </tr>\n",
       "  </thead>\n",
       "  <tbody>\n",
       "    <tr>\n",
       "      <th>0</th>\n",
       "      <td>2023-09-03 10:00:00</td>\n",
       "      <td>4.0</td>\n",
       "      <td>-75</td>\n",
       "      <td>30</td>\n",
       "      <td>10000.0</td>\n",
       "      <td>15000.0</td>\n",
       "      <td>70</td>\n",
       "    </tr>\n",
       "    <tr>\n",
       "      <th>1</th>\n",
       "      <td>2023-09-03 10:00:00</td>\n",
       "      <td>3.0</td>\n",
       "      <td>-80</td>\n",
       "      <td>20</td>\n",
       "      <td>100.0</td>\n",
       "      <td>120.0</td>\n",
       "      <td>80</td>\n",
       "    </tr>\n",
       "    <tr>\n",
       "      <th>2</th>\n",
       "      <td>2023-09-03 10:00:00</td>\n",
       "      <td>7.0</td>\n",
       "      <td>-85</td>\n",
       "      <td>40</td>\n",
       "      <td>5000.0</td>\n",
       "      <td>6000.0</td>\n",
       "      <td>75</td>\n",
       "    </tr>\n",
       "    <tr>\n",
       "      <th>3</th>\n",
       "      <td>2023-09-03 10:00:00</td>\n",
       "      <td>10.0</td>\n",
       "      <td>-70</td>\n",
       "      <td>10</td>\n",
       "      <td>1000.0</td>\n",
       "      <td>1500.0</td>\n",
       "      <td>90</td>\n",
       "    </tr>\n",
       "    <tr>\n",
       "      <th>4</th>\n",
       "      <td>2023-09-03 10:00:00</td>\n",
       "      <td>9.0</td>\n",
       "      <td>-78</td>\n",
       "      <td>25</td>\n",
       "      <td>2000.0</td>\n",
       "      <td>3000.0</td>\n",
       "      <td>85</td>\n",
       "    </tr>\n",
       "    <tr>\n",
       "      <th>...</th>\n",
       "      <td>...</td>\n",
       "      <td>...</td>\n",
       "      <td>...</td>\n",
       "      <td>...</td>\n",
       "      <td>...</td>\n",
       "      <td>...</td>\n",
       "      <td>...</td>\n",
       "    </tr>\n",
       "    <tr>\n",
       "      <th>395</th>\n",
       "      <td>2023-09-03 10:06:00</td>\n",
       "      <td>7.0</td>\n",
       "      <td>-110</td>\n",
       "      <td>61</td>\n",
       "      <td>1300.0</td>\n",
       "      <td>1800.0</td>\n",
       "      <td>85</td>\n",
       "    </tr>\n",
       "    <tr>\n",
       "      <th>396</th>\n",
       "      <td>2023-09-03 10:06:00</td>\n",
       "      <td>4.0</td>\n",
       "      <td>-40</td>\n",
       "      <td>53</td>\n",
       "      <td>14500.0</td>\n",
       "      <td>15800.0</td>\n",
       "      <td>75</td>\n",
       "    </tr>\n",
       "    <tr>\n",
       "      <th>397</th>\n",
       "      <td>2023-09-03 10:06:00</td>\n",
       "      <td>8.0</td>\n",
       "      <td>-113</td>\n",
       "      <td>58</td>\n",
       "      <td>1000.0</td>\n",
       "      <td>1400.0</td>\n",
       "      <td>70</td>\n",
       "    </tr>\n",
       "    <tr>\n",
       "      <th>398</th>\n",
       "      <td>2023-09-03 10:06:00</td>\n",
       "      <td>10.0</td>\n",
       "      <td>-40</td>\n",
       "      <td>5</td>\n",
       "      <td>400.0</td>\n",
       "      <td>400.0</td>\n",
       "      <td>70</td>\n",
       "    </tr>\n",
       "    <tr>\n",
       "      <th>399</th>\n",
       "      <td>2023-09-03 10:06:00</td>\n",
       "      <td>1.0</td>\n",
       "      <td>-113</td>\n",
       "      <td>0</td>\n",
       "      <td>100.0</td>\n",
       "      <td>100.0</td>\n",
       "      <td>70</td>\n",
       "    </tr>\n",
       "  </tbody>\n",
       "</table>\n",
       "<p>400 rows × 7 columns</p>\n",
       "</div>"
      ],
      "text/plain": [
       "              Timestamp  Application_Type  Signal_Strength  Latency  \\\n",
       "0   2023-09-03 10:00:00               4.0              -75       30   \n",
       "1   2023-09-03 10:00:00               3.0              -80       20   \n",
       "2   2023-09-03 10:00:00               7.0              -85       40   \n",
       "3   2023-09-03 10:00:00              10.0              -70       10   \n",
       "4   2023-09-03 10:00:00               9.0              -78       25   \n",
       "..                  ...               ...              ...      ...   \n",
       "395 2023-09-03 10:06:00               7.0             -110       61   \n",
       "396 2023-09-03 10:06:00               4.0              -40       53   \n",
       "397 2023-09-03 10:06:00               8.0             -113       58   \n",
       "398 2023-09-03 10:06:00              10.0              -40        5   \n",
       "399 2023-09-03 10:06:00               1.0             -113        0   \n",
       "\n",
       "     Required_Bandwidth  Allocated_Bandwidth  Resource_Allocation  \n",
       "0               10000.0              15000.0                   70  \n",
       "1                 100.0                120.0                   80  \n",
       "2                5000.0               6000.0                   75  \n",
       "3                1000.0               1500.0                   90  \n",
       "4                2000.0               3000.0                   85  \n",
       "..                  ...                  ...                  ...  \n",
       "395              1300.0               1800.0                   85  \n",
       "396             14500.0              15800.0                   75  \n",
       "397              1000.0               1400.0                   70  \n",
       "398               400.0                400.0                   70  \n",
       "399               100.0                100.0                   70  \n",
       "\n",
       "[400 rows x 7 columns]"
      ]
     },
     "execution_count": 20,
     "metadata": {},
     "output_type": "execute_result"
    }
   ],
   "source": [
    "df.drop('User_ID', axis=1, inplace=True)\n",
    "df"
   ]
  },
  {
   "cell_type": "markdown",
   "id": "cc5e2de2",
   "metadata": {},
   "source": [
    "Data Visualization :"
   ]
  },
  {
   "cell_type": "code",
   "execution_count": 21,
   "id": "09913609",
   "metadata": {},
   "outputs": [
    {
     "data": {
      "text/plain": [
       "<AxesSubplot:xlabel='Resource_Allocation', ylabel='count'>"
      ]
     },
     "execution_count": 21,
     "metadata": {},
     "output_type": "execute_result"
    },
    {
     "data": {
      "image/png": "[encoded data removed]",
      "text/plain": [
       "<Figure size 432x288 with 1 Axes>"
      ]
     },
     "metadata": {
      "needs_background": "light"
     },
     "output_type": "display_data"
    }
   ],
   "source": [
    "sns.countplot(x=df['Resource_Allocation'])"
   ]
  },
  {
   "cell_type": "code",
   "execution_count": 22,
   "id": "5122399d",
   "metadata": {},
   "outputs": [
    {
     "data": {
      "text/plain": [
       "<AxesSubplot:>"
      ]
     },
     "execution_count": 22,
     "metadata": {},
     "output_type": "execute_result"
    },
    {
     "data": {
      "image/png": "[encoded data removed]",
      "text/plain": [
       "<Figure size 432x288 with 1 Axes>"
      ]
     },
     "metadata": {
      "needs_background": "light"
     },
     "output_type": "display_data"
    }
   ],
   "source": [
    "sns.boxplot(data=df, orient=\"h\", palette=\"Set2\")  # Use sns.violinplot() for a violin plot<Axes:>"
   ]
  },
  {
   "cell_type": "code",
   "execution_count": 23,
   "id": "02759e41",
   "metadata": {},
   "outputs": [
    {
     "data": {
      "text/plain": [
       "<AxesSubplot:>"
      ]
     },
     "execution_count": 23,
     "metadata": {},
     "output_type": "execute_result"
    },
    {
     "data": {
      "image/png": "[encoded data removed]",
      "text/plain": [
       "<Figure size 432x288 with 1 Axes>"
      ]
     },
     "metadata": {
      "needs_background": "light"
     },
     "output_type": "display_data"
    }
   ],
   "source": [
    "sns.boxplot(data=df['Signal_Strength'])"
   ]
  },
  {
   "cell_type": "code",
   "execution_count": 24,
   "id": "3905b705",
   "metadata": {},
   "outputs": [
    {
     "data": {
      "text/plain": [
       "<AxesSubplot:>"
      ]
     },
     "execution_count": 24,
     "metadata": {},
     "output_type": "execute_result"
    },
    {
     "data": {
      "image/png": "[encoded data removed]",
      "text/plain": [
       "<Figure size 432x288 with 1 Axes>"
      ]
     },
     "metadata": {
      "needs_background": "light"
     },
     "output_type": "display_data"
    }
   ],
   "source": [
    "sns.boxplot(data=df['Latency']) "
   ]
  },
  {
   "cell_type": "code",
   "execution_count": 25,
   "id": "77d45ff7",
   "metadata": {},
   "outputs": [],
   "source": [
    "Q1 = np.percentile(df['Latency'], 25, method='midpoint')\n",
    "Q3 = np.percentile(df['Latency'], 75, method='midpoint')\n",
    "\n",
    "IQR = Q3-Q1\n",
    "\n",
    "upper = Q3 + 1.5*IQR\n",
    "lower = Q1 - 1.5*IQR\n",
    "\n",
    "upper_val = np.where(df['Latency'] >= upper)\n",
    "lower_val = np.where(df['Latency'] <= lower)\n",
    "\n",
    "# Removing the outliers\n",
    "df.drop(upper_val[0], inplace=True)\n",
    "df.drop(lower_val[0], inplace=True)"
   ]
  },
  {
   "cell_type": "code",
   "execution_count": 26,
   "id": "c52a5850",
   "metadata": {},
   "outputs": [
    {
     "data": {
      "text/plain": [
       "<AxesSubplot:>"
      ]
     },
     "execution_count": 26,
     "metadata": {},
     "output_type": "execute_result"
    },
    {
     "data": {
      "image/png": "[encoded data removed]",
      "text/plain": [
       "<Figure size 432x288 with 1 Axes>"
      ]
     },
     "metadata": {
      "needs_background": "light"
     },
     "output_type": "display_data"
    }
   ],
   "source": [
    "sns.boxplot(data=df['Latency'])"
   ]
  },
  {
   "cell_type": "code",
   "execution_count": 27,
   "id": "f1f34243",
   "metadata": {},
   "outputs": [
    {
     "data": {
      "text/plain": [
       "(387, 7)"
      ]
     },
     "execution_count": 27,
     "metadata": {},
     "output_type": "execute_result"
    }
   ],
   "source": [
    "df.shape"
   ]
  },
  {
   "cell_type": "code",
   "execution_count": 28,
   "id": "d3d311c8",
   "metadata": {},
   "outputs": [
    {
     "data": {
      "text/plain": [
       "<AxesSubplot:>"
      ]
     },
     "execution_count": 28,
     "metadata": {},
     "output_type": "execute_result"
    },
    {
     "data": {
      "image/png": "[encoded data removed]",
      "text/plain": [
       "<Figure size 432x288 with 1 Axes>"
      ]
     },
     "metadata": {
      "needs_background": "light"
     },
     "output_type": "display_data"
    }
   ],
   "source": [
    "sns.boxplot(data=df['Required_Bandwidth']) "
   ]
  },
  {
   "cell_type": "code",
   "execution_count": 29,
   "id": "cde22b83",
   "metadata": {},
   "outputs": [
    {
     "data": {
      "text/plain": [
       "<AxesSubplot:>"
      ]
     },
     "execution_count": 29,
     "metadata": {},
     "output_type": "execute_result"
    },
    {
     "data": {
      "image/png": "[encoded data removed]",
      "text/plain": [
       "<Figure size 432x288 with 1 Axes>"
      ]
     },
     "metadata": {
      "needs_background": "light"
     },
     "output_type": "display_data"
    }
   ],
   "source": [
    "df['Required_Bandwidth'] = np.sqrt(df['Required_Bandwidth'])\n",
    "\n",
    "sns.boxplot(data=df['Required_Bandwidth'])"
   ]
  },
  {
   "cell_type": "code",
   "execution_count": 30,
   "id": "e9e3c71a",
   "metadata": {},
   "outputs": [
    {
     "data": {
      "text/plain": [
       "<AxesSubplot:>"
      ]
     },
     "execution_count": 30,
     "metadata": {},
     "output_type": "execute_result"
    },
    {
     "data": {
      "image/png": "[encoded data removed]",
      "text/plain": [
       "<Figure size 432x288 with 1 Axes>"
      ]
     },
     "metadata": {
      "needs_background": "light"
     },
     "output_type": "display_data"
    }
   ],
   "source": [
    "df['Allocated_Bandwidth'] = np.sqrt(df['Allocated_Bandwidth'])\n",
    "\n",
    "sns.boxplot(data=df['Allocated_Bandwidth']) "
   ]
  },
  {
   "cell_type": "code",
   "execution_count": 31,
   "id": "bbbbce60",
   "metadata": {},
   "outputs": [
    {
     "data": {
      "text/plain": [
       "<AxesSubplot:>"
      ]
     },
     "execution_count": 31,
     "metadata": {},
     "output_type": "execute_result"
    },
    {
     "data": {
      "image/png": "[encoded data removed]",
      "text/plain": [
       "<Figure size 432x288 with 1 Axes>"
      ]
     },
     "metadata": {
      "needs_background": "light"
     },
     "output_type": "display_data"
    }
   ],
   "source": [
    "sns.boxplot(data=df)"
   ]
  },
  {
   "cell_type": "code",
   "execution_count": 32,
   "id": "7cfb4f2c",
   "metadata": {},
   "outputs": [
    {
     "data": {
      "image/png": "[encoded data removed]",
      "text/plain": [
       "<Figure size 864x432 with 1 Axes>"
      ]
     },
     "metadata": {
      "needs_background": "light"
     },
     "output_type": "display_data"
    }
   ],
   "source": [
    "def min_max_scaling(column):\n",
    "    min_val = column.min()\n",
    "    max_val = column.max()\n",
    "    return (column - min_val) / (max_val - min_val)\n",
    "\n",
    "Transformed_df = df\n",
    "\n",
    "Transformed_df['Signal_Strength'] = min_max_scaling(df['Signal_Strength'])\n",
    "Transformed_df['Latency'] = min_max_scaling(df['Latency'])\n",
    "Transformed_df['Required_Bandwidth'] = min_max_scaling(df['Required_Bandwidth'])\n",
    "Transformed_df['Allocated_Bandwidth'] = min_max_scaling(df['Allocated_Bandwidth'])\n",
    "Transformed_df['Resource_Allocation'] = min_max_scaling(df['Resource_Allocation'])\n",
    "Transformed_df['Application_Type'] = min_max_scaling(df['Application_Type'])\n",
    "\n",
    "Transformed_df.drop('Timestamp', axis=1, inplace=True)\n",
    "\n",
    "plt.figure(figsize=(12,6))\n",
    "sns.boxplot(data=Transformed_df)\n",
    "plt.show()"
   ]
  },
  {
   "cell_type": "code",
   "execution_count": 33,
   "id": "65412ee0",
   "metadata": {},
   "outputs": [
    {
     "name": "stdout",
     "output_type": "stream",
     "text": [
      "<class 'pandas.core.frame.DataFrame'>\n",
      "Int64Index: 387 entries, 0 to 399\n",
      "Data columns (total 6 columns):\n",
      " #   Column               Non-Null Count  Dtype  \n",
      "---  ------               --------------  -----  \n",
      " 0   Application_Type     387 non-null    float64\n",
      " 1   Signal_Strength      387 non-null    float64\n",
      " 2   Latency              387 non-null    float64\n",
      " 3   Required_Bandwidth   387 non-null    float64\n",
      " 4   Allocated_Bandwidth  387 non-null    float64\n",
      " 5   Resource_Allocation  387 non-null    float64\n",
      "dtypes: float64(6)\n",
      "memory usage: 29.3 KB\n"
     ]
    }
   ],
   "source": [
    "Transformed_df.info()"
   ]
  },
  {
   "cell_type": "code",
   "execution_count": 34,
   "id": "a93ef8ff",
   "metadata": {},
   "outputs": [
    {
     "data": {
      "text/html": [
       "<div>\n",
       "<style scoped>\n",
       "    .dataframe tbody tr th:only-of-type {\n",
       "        vertical-align: middle;\n",
       "    }\n",
       "\n",
       "    .dataframe tbody tr th {\n",
       "        vertical-align: top;\n",
       "    }\n",
       "\n",
       "    .dataframe thead th {\n",
       "        text-align: right;\n",
       "    }\n",
       "</style>\n",
       "<table border=\"1\" class=\"dataframe\">\n",
       "  <thead>\n",
       "    <tr style=\"text-align: right;\">\n",
       "      <th></th>\n",
       "      <th>Application_Type</th>\n",
       "      <th>Signal_Strength</th>\n",
       "      <th>Latency</th>\n",
       "      <th>Required_Bandwidth</th>\n",
       "      <th>Allocated_Bandwidth</th>\n",
       "      <th>Resource_Allocation</th>\n",
       "    </tr>\n",
       "  </thead>\n",
       "  <tbody>\n",
       "    <tr>\n",
       "      <th>count</th>\n",
       "      <td>387.000000</td>\n",
       "      <td>387.000000</td>\n",
       "      <td>387.000000</td>\n",
       "      <td>387.000000</td>\n",
       "      <td>387.000000</td>\n",
       "      <td>387.000000</td>\n",
       "    </tr>\n",
       "    <tr>\n",
       "      <th>mean</th>\n",
       "      <td>0.532587</td>\n",
       "      <td>0.520096</td>\n",
       "      <td>0.404227</td>\n",
       "      <td>0.386077</td>\n",
       "      <td>0.390511</td>\n",
       "      <td>0.567368</td>\n",
       "    </tr>\n",
       "    <tr>\n",
       "      <th>std</th>\n",
       "      <td>0.337124</td>\n",
       "      <td>0.249585</td>\n",
       "      <td>0.221440</td>\n",
       "      <td>0.273194</td>\n",
       "      <td>0.277136</td>\n",
       "      <td>0.257148</td>\n",
       "    </tr>\n",
       "    <tr>\n",
       "      <th>min</th>\n",
       "      <td>0.000000</td>\n",
       "      <td>0.000000</td>\n",
       "      <td>0.000000</td>\n",
       "      <td>0.000000</td>\n",
       "      <td>0.000000</td>\n",
       "      <td>0.000000</td>\n",
       "    </tr>\n",
       "    <tr>\n",
       "      <th>25%</th>\n",
       "      <td>0.333333</td>\n",
       "      <td>0.313253</td>\n",
       "      <td>0.269231</td>\n",
       "      <td>0.185695</td>\n",
       "      <td>0.177892</td>\n",
       "      <td>0.428571</td>\n",
       "    </tr>\n",
       "    <tr>\n",
       "      <th>50%</th>\n",
       "      <td>0.555556</td>\n",
       "      <td>0.493976</td>\n",
       "      <td>0.397436</td>\n",
       "      <td>0.310728</td>\n",
       "      <td>0.328017</td>\n",
       "      <td>0.428571</td>\n",
       "    </tr>\n",
       "    <tr>\n",
       "      <th>75%</th>\n",
       "      <td>0.777778</td>\n",
       "      <td>0.722892</td>\n",
       "      <td>0.564103</td>\n",
       "      <td>0.531751</td>\n",
       "      <td>0.536625</td>\n",
       "      <td>0.714286</td>\n",
       "    </tr>\n",
       "    <tr>\n",
       "      <th>max</th>\n",
       "      <td>1.000000</td>\n",
       "      <td>1.000000</td>\n",
       "      <td>1.000000</td>\n",
       "      <td>1.000000</td>\n",
       "      <td>1.000000</td>\n",
       "      <td>1.000000</td>\n",
       "    </tr>\n",
       "  </tbody>\n",
       "</table>\n",
       "</div>"
      ],
      "text/plain": [
       "       Application_Type  Signal_Strength     Latency  Required_Bandwidth  \\\n",
       "count        387.000000       387.000000  387.000000          387.000000   \n",
       "mean           0.532587         0.520096    0.404227            0.386077   \n",
       "std            0.337124         0.249585    0.221440            0.273194   \n",
       "min            0.000000         0.000000    0.000000            0.000000   \n",
       "25%            0.333333         0.313253    0.269231            0.185695   \n",
       "50%            0.555556         0.493976    0.397436            0.310728   \n",
       "75%            0.777778         0.722892    0.564103            0.531751   \n",
       "max            1.000000         1.000000    1.000000            1.000000   \n",
       "\n",
       "       Allocated_Bandwidth  Resource_Allocation  \n",
       "count           387.000000           387.000000  \n",
       "mean              0.390511             0.567368  \n",
       "std               0.277136             0.257148  \n",
       "min               0.000000             0.000000  \n",
       "25%               0.177892             0.428571  \n",
       "50%               0.328017             0.428571  \n",
       "75%               0.536625             0.714286  \n",
       "max               1.000000             1.000000  "
      ]
     },
     "execution_count": 34,
     "metadata": {},
     "output_type": "execute_result"
    }
   ],
   "source": [
    "Transformed_df.describe()"
   ]
  },
  {
   "cell_type": "markdown",
   "id": "1d782d10",
   "metadata": {},
   "source": [
    "Split the DataFrame :"
   ]
  },
  {
   "cell_type": "code",
   "execution_count": 35,
   "id": "1aa4ee3c",
   "metadata": {},
   "outputs": [],
   "source": [
    "X = Transformed_df.drop('Resource_Allocation', axis=1)\n",
    "Y = Transformed_df['Resource_Allocation']"
   ]
  },
  {
   "cell_type": "code",
   "execution_count": 36,
   "id": "1607111b",
   "metadata": {},
   "outputs": [],
   "source": [
    "from sklearn.model_selection import train_test_split\n",
    "\n",
    "x_train,x_test,y_train,y_test = train_test_split(X, Y, test_size=0.20, random_state=42)"
   ]
  },
  {
   "cell_type": "code",
   "execution_count": 37,
   "id": "b9831a33",
   "metadata": {},
   "outputs": [
    {
     "data": {
      "text/plain": [
       "((309, 5), (78, 5), (309,), (78,))"
      ]
     },
     "execution_count": 37,
     "metadata": {},
     "output_type": "execute_result"
    }
   ],
   "source": [
    "x_train.shape,x_test.shape,y_train.shape,y_test.shape"
   ]
  },
  {
   "cell_type": "markdown",
   "id": "7e2ad0c0",
   "metadata": {},
   "source": [
    "## Linear Regression Model :"
   ]
  },
  {
   "cell_type": "code",
   "execution_count": 38,
   "id": "e7ff05cf",
   "metadata": {},
   "outputs": [],
   "source": [
    "from sklearn.linear_model import LinearRegression"
   ]
  },
  {
   "cell_type": "code",
   "execution_count": 39,
   "id": "eab63e0f",
   "metadata": {},
   "outputs": [
    {
     "data": {
      "text/html": [
       "<style>#sk-container-id-1 {color: black;background-color: white;}#sk-container-id-1 pre{padding: 0;}#sk-container-id-1 div.sk-toggleable {background-color: white;}#sk-container-id-1 label.sk-toggleable__label {cursor: pointer;display: block;width: 100%;margin-bottom: 0;padding: 0.3em;box-sizing: border-box;text-align: center;}#sk-container-id-1 label.sk-toggleable__label-arrow:before {content: \"▸\";float: left;margin-right: 0.25em;color: #696969;}#sk-container-id-1 label.sk-toggleable__label-arrow:hover:before {color: black;}#sk-container-id-1 div.sk-estimator:hover label.sk-toggleable__label-arrow:before {color: black;}#sk-container-id-1 div.sk-toggleable__content {max-height: 0;max-width: 0;overflow: hidden;text-align: left;background-color: #f0f8ff;}#sk-container-id-1 div.sk-toggleable__content pre {margin: 0.2em;color: black;border-radius: 0.25em;background-color: #f0f8ff;}#sk-container-id-1 input.sk-toggleable__control:checked~div.sk-toggleable__content {max-height: 200px;max-width: 100%;overflow: auto;}#sk-container-id-1 input.sk-toggleable__control:checked~label.sk-toggleable__label-arrow:before {content: \"▾\";}#sk-container-id-1 div.sk-estimator input.sk-toggleable__control:checked~label.sk-toggleable__label {background-color: #d4ebff;}#sk-container-id-1 div.sk-label input.sk-toggleable__control:checked~label.sk-toggleable__label {background-color: #d4ebff;}#sk-container-id-1 input.sk-hidden--visually {border: 0;clip: rect(1px 1px 1px 1px);clip: rect(1px, 1px, 1px, 1px);height: 1px;margin: -1px;overflow: hidden;padding: 0;position: absolute;width: 1px;}#sk-container-id-1 div.sk-estimator {font-family: monospace;background-color: #f0f8ff;border: 1px dotted black;border-radius: 0.25em;box-sizing: border-box;margin-bottom: 0.5em;}#sk-container-id-1 div.sk-estimator:hover {background-color: #d4ebff;}#sk-container-id-1 div.sk-parallel-item::after {content: \"\";width: 100%;border-bottom: 1px solid gray;flex-grow: 1;}#sk-container-id-1 div.sk-label:hover label.sk-toggleable__label {background-color: #d4ebff;}#sk-container-id-1 div.sk-serial::before {content: \"\";position: absolute;border-left: 1px solid gray;box-sizing: border-box;top: 0;bottom: 0;left: 50%;z-index: 0;}#sk-container-id-1 div.sk-serial {display: flex;flex-direction: column;align-items: center;background-color: white;padding-right: 0.2em;padding-left: 0.2em;position: relative;}#sk-container-id-1 div.sk-item {position: relative;z-index: 1;}#sk-container-id-1 div.sk-parallel {display: flex;align-items: stretch;justify-content: center;background-color: white;position: relative;}#sk-container-id-1 div.sk-item::before, #sk-container-id-1 div.sk-parallel-item::before {content: \"\";position: absolute;border-left: 1px solid gray;box-sizing: border-box;top: 0;bottom: 0;left: 50%;z-index: -1;}#sk-container-id-1 div.sk-parallel-item {display: flex;flex-direction: column;z-index: 1;position: relative;background-color: white;}#sk-container-id-1 div.sk-parallel-item:first-child::after {align-self: flex-end;width: 50%;}#sk-container-id-1 div.sk-parallel-item:last-child::after {align-self: flex-start;width: 50%;}#sk-container-id-1 div.sk-parallel-item:only-child::after {width: 0;}#sk-container-id-1 div.sk-dashed-wrapped {border: 1px dashed gray;margin: 0 0.4em 0.5em 0.4em;box-sizing: border-box;padding-bottom: 0.4em;background-color: white;}#sk-container-id-1 div.sk-label label {font-family: monospace;font-weight: bold;display: inline-block;line-height: 1.2em;}#sk-container-id-1 div.sk-label-container {text-align: center;}#sk-container-id-1 div.sk-container {/* jupyter's `normalize.less` sets `[hidden] { display: none; }` but bootstrap.min.css set `[hidden] { display: none !important; }` so we also need the `!important` here to be able to override the default hidden behavior on the sphinx rendered scikit-learn.org. See: https://github.com/scikit-learn/scikit-learn/issues/21755 */display: inline-block !important;position: relative;}#sk-container-id-1 div.sk-text-repr-fallback {display: none;}</style><div id=\"sk-container-id-1\" class=\"sk-top-container\"><div class=\"sk-text-repr-fallback\"><pre>LinearRegression()</pre><b>In a Jupyter environment, please rerun this cell to show the HTML representation or trust the notebook. <br />On GitHub, the HTML representation is unable to render, please try loading this page with nbviewer.org.</b></div><div class=\"sk-container\" hidden><div class=\"sk-item\"><div class=\"sk-estimator sk-toggleable\"><input class=\"sk-toggleable__control sk-hidden--visually\" id=\"sk-estimator-id-1\" type=\"checkbox\" checked><label for=\"sk-estimator-id-1\" class=\"sk-toggleable__label sk-toggleable__label-arrow\">LinearRegression</label><div class=\"sk-toggleable__content\"><pre>LinearRegression()</pre></div></div></div></div></div>"
      ],
      "text/plain": [
       "LinearRegression()"
      ]
     },
     "execution_count": 39,
     "metadata": {},
     "output_type": "execute_result"
    }
   ],
   "source": [
    "lin_regressor = LinearRegression()\n",
    "lin_regressor.fit(x_train,y_train)"
   ]
  },
  {
   "cell_type": "markdown",
   "id": "7ae2d9f5",
   "metadata": {},
   "source": [
    "Predict Test Set Results :"
   ]
  },
  {
   "cell_type": "code",
   "execution_count": 40,
   "id": "fa45ebc0",
   "metadata": {},
   "outputs": [],
   "source": [
    "lin_regressor_y_pred = lin_regressor.predict(x_test)"
   ]
  },
  {
   "cell_type": "markdown",
   "id": "7c6004a5",
   "metadata": {},
   "source": [
    "Evaluation of Model Performance :"
   ]
  },
  {
   "cell_type": "code",
   "execution_count": 42,
   "id": "f772e5b9",
   "metadata": {},
   "outputs": [],
   "source": [
    "from sklearn.metrics import r2_score, mean_squared_error"
   ]
  },
  {
   "cell_type": "code",
   "execution_count": 43,
   "id": "8c32b5ce",
   "metadata": {},
   "outputs": [
    {
     "data": {
      "text/plain": [
       "-0.04872014161021232"
      ]
     },
     "execution_count": 43,
     "metadata": {},
     "output_type": "execute_result"
    }
   ],
   "source": [
    "lin_regressor_r2 = r2_score(y_test, lin_regressor_y_pred)\n",
    "lin_regressor_r2"
   ]
  },
  {
   "cell_type": "code",
   "execution_count": 44,
   "id": "4c89c9b9",
   "metadata": {},
   "outputs": [
    {
     "data": {
      "text/plain": [
       "0.07650919226032989"
      ]
     },
     "execution_count": 44,
     "metadata": {},
     "output_type": "execute_result"
    }
   ],
   "source": [
    "lin_regressor_mse = mean_squared_error(y_test, lin_regressor_y_pred)\n",
    "lin_regressor_mse"
   ]
  },
  {
   "cell_type": "code",
   "execution_count": 45,
   "id": "29ca753b",
   "metadata": {},
   "outputs": [
    {
     "data": {
      "text/plain": [
       "0.27660295056331174"
      ]
     },
     "execution_count": 45,
     "metadata": {},
     "output_type": "execute_result"
    }
   ],
   "source": [
    "lin_regressor_rmse = np.sqrt(lin_regressor_mse)\n",
    "lin_regressor_rmse"
   ]
  },
  {
   "cell_type": "markdown",
   "id": "9ef7040c",
   "metadata": {},
   "source": [
    "## Visualize the Results of the Prediction :"
   ]
  },
  {
   "cell_type": "code",
   "execution_count": 46,
   "id": "5fb60773",
   "metadata": {},
   "outputs": [
    {
     "data": {
      "image/png": "[encoded data removed]",
      "text/plain": [
       "<Figure size 432x288 with 1 Axes>"
      ]
     },
     "metadata": {
      "needs_background": "light"
     },
     "output_type": "display_data"
    }
   ],
   "source": [
    "plt.scatter(y_test, lin_regressor_y_pred)\n",
    "plt.show()"
   ]
  },
  {
   "cell_type": "code",
   "execution_count": 47,
   "id": "2ed8f045",
   "metadata": {},
   "outputs": [
    {
     "data": {
      "image/png": "[encoded data removed]",
      "text/plain": [
       "<Figure size 360x360 with 1 Axes>"
      ]
     },
     "metadata": {
      "needs_background": "light"
     },
     "output_type": "display_data"
    },
    {
     "data": {
      "image/png": "[encoded data removed]",
      "text/plain": [
       "<Figure size 360x360 with 1 Axes>"
      ]
     },
     "metadata": {
      "needs_background": "light"
     },
     "output_type": "display_data"
    },
    {
     "data": {
      "image/png": "[encoded data removed]",
      "text/plain": [
       "<Figure size 360x360 with 1 Axes>"
      ]
     },
     "metadata": {
      "needs_background": "light"
     },
     "output_type": "display_data"
    },
    {
     "data": {
      "image/png": "[encoded data removed]",
      "text/plain": [
       "<Figure size 360x360 with 1 Axes>"
      ]
     },
     "metadata": {
      "needs_background": "light"
     },
     "output_type": "display_data"
    }
   ],
   "source": [
    "lin_regressor_plot = x_test\n",
    "lin_regressor_plot['Y_Predicted'] = lin_regressor_y_pred\n",
    "\n",
    "sns.lmplot(x='Signal_Strength', y='Y_Predicted', data=lin_regressor_plot)\n",
    "\n",
    "sns.lmplot(x='Latency', y='Y_Predicted', data=lin_regressor_plot)\n",
    "\n",
    "sns.lmplot(x='Required_Bandwidth', y='Y_Predicted', data=lin_regressor_plot)\n",
    "\n",
    "sns.lmplot(x='Allocated_Bandwidth', y='Y_Predicted', data=lin_regressor_plot)\n",
    "\n",
    "plt.show()"
   ]
  },
  {
   "cell_type": "markdown",
   "id": "e7270088",
   "metadata": {},
   "source": [
    "## SVM Regression Model :"
   ]
  },
  {
   "cell_type": "code",
   "execution_count": 48,
   "id": "80895082",
   "metadata": {},
   "outputs": [],
   "source": [
    "from sklearn.svm import SVR"
   ]
  },
  {
   "cell_type": "code",
   "execution_count": 49,
   "id": "df9a18b4",
   "metadata": {},
   "outputs": [
    {
     "data": {
      "text/html": [
       "<style>#sk-container-id-2 {color: black;background-color: white;}#sk-container-id-2 pre{padding: 0;}#sk-container-id-2 div.sk-toggleable {background-color: white;}#sk-container-id-2 label.sk-toggleable__label {cursor: pointer;display: block;width: 100%;margin-bottom: 0;padding: 0.3em;box-sizing: border-box;text-align: center;}#sk-container-id-2 label.sk-toggleable__label-arrow:before {content: \"▸\";float: left;margin-right: 0.25em;color: #696969;}#sk-container-id-2 label.sk-toggleable__label-arrow:hover:before {color: black;}#sk-container-id-2 div.sk-estimator:hover label.sk-toggleable__label-arrow:before {color: black;}#sk-container-id-2 div.sk-toggleable__content {max-height: 0;max-width: 0;overflow: hidden;text-align: left;background-color: #f0f8ff;}#sk-container-id-2 div.sk-toggleable__content pre {margin: 0.2em;color: black;border-radius: 0.25em;background-color: #f0f8ff;}#sk-container-id-2 input.sk-toggleable__control:checked~div.sk-toggleable__content {max-height: 200px;max-width: 100%;overflow: auto;}#sk-container-id-2 input.sk-toggleable__control:checked~label.sk-toggleable__label-arrow:before {content: \"▾\";}#sk-container-id-2 div.sk-estimator input.sk-toggleable__control:checked~label.sk-toggleable__label {background-color: #d4ebff;}#sk-container-id-2 div.sk-label input.sk-toggleable__control:checked~label.sk-toggleable__label {background-color: #d4ebff;}#sk-container-id-2 input.sk-hidden--visually {border: 0;clip: rect(1px 1px 1px 1px);clip: rect(1px, 1px, 1px, 1px);height: 1px;margin: -1px;overflow: hidden;padding: 0;position: absolute;width: 1px;}#sk-container-id-2 div.sk-estimator {font-family: monospace;background-color: #f0f8ff;border: 1px dotted black;border-radius: 0.25em;box-sizing: border-box;margin-bottom: 0.5em;}#sk-container-id-2 div.sk-estimator:hover {background-color: #d4ebff;}#sk-container-id-2 div.sk-parallel-item::after {content: \"\";width: 100%;border-bottom: 1px solid gray;flex-grow: 1;}#sk-container-id-2 div.sk-label:hover label.sk-toggleable__label {background-color: #d4ebff;}#sk-container-id-2 div.sk-serial::before {content: \"\";position: absolute;border-left: 1px solid gray;box-sizing: border-box;top: 0;bottom: 0;left: 50%;z-index: 0;}#sk-container-id-2 div.sk-serial {display: flex;flex-direction: column;align-items: center;background-color: white;padding-right: 0.2em;padding-left: 0.2em;position: relative;}#sk-container-id-2 div.sk-item {position: relative;z-index: 1;}#sk-container-id-2 div.sk-parallel {display: flex;align-items: stretch;justify-content: center;background-color: white;position: relative;}#sk-container-id-2 div.sk-item::before, #sk-container-id-2 div.sk-parallel-item::before {content: \"\";position: absolute;border-left: 1px solid gray;box-sizing: border-box;top: 0;bottom: 0;left: 50%;z-index: -1;}#sk-container-id-2 div.sk-parallel-item {display: flex;flex-direction: column;z-index: 1;position: relative;background-color: white;}#sk-container-id-2 div.sk-parallel-item:first-child::after {align-self: flex-end;width: 50%;}#sk-container-id-2 div.sk-parallel-item:last-child::after {align-self: flex-start;width: 50%;}#sk-container-id-2 div.sk-parallel-item:only-child::after {width: 0;}#sk-container-id-2 div.sk-dashed-wrapped {border: 1px dashed gray;margin: 0 0.4em 0.5em 0.4em;box-sizing: border-box;padding-bottom: 0.4em;background-color: white;}#sk-container-id-2 div.sk-label label {font-family: monospace;font-weight: bold;display: inline-block;line-height: 1.2em;}#sk-container-id-2 div.sk-label-container {text-align: center;}#sk-container-id-2 div.sk-container {/* jupyter's `normalize.less` sets `[hidden] { display: none; }` but bootstrap.min.css set `[hidden] { display: none !important; }` so we also need the `!important` here to be able to override the default hidden behavior on the sphinx rendered scikit-learn.org. See: https://github.com/scikit-learn/scikit-learn/issues/21755 */display: inline-block !important;position: relative;}#sk-container-id-2 div.sk-text-repr-fallback {display: none;}</style><div id=\"sk-container-id-2\" class=\"sk-top-container\"><div class=\"sk-text-repr-fallback\"><pre>SVR(kernel=&#x27;poly&#x27;)</pre><b>In a Jupyter environment, please rerun this cell to show the HTML representation or trust the notebook. <br />On GitHub, the HTML representation is unable to render, please try loading this page with nbviewer.org.</b></div><div class=\"sk-container\" hidden><div class=\"sk-item\"><div class=\"sk-estimator sk-toggleable\"><input class=\"sk-toggleable__control sk-hidden--visually\" id=\"sk-estimator-id-2\" type=\"checkbox\" checked><label for=\"sk-estimator-id-2\" class=\"sk-toggleable__label sk-toggleable__label-arrow\">SVR</label><div class=\"sk-toggleable__content\"><pre>SVR(kernel=&#x27;poly&#x27;)</pre></div></div></div></div></div>"
      ],
      "text/plain": [
       "SVR(kernel='poly')"
      ]
     },
     "execution_count": 49,
     "metadata": {},
     "output_type": "execute_result"
    }
   ],
   "source": [
    "svr = SVR(kernel='poly')\n",
    "svr.fit(x_train, y_train)"
   ]
  },
  {
   "cell_type": "code",
   "execution_count": 50,
   "id": "b7dea83d",
   "metadata": {},
   "outputs": [],
   "source": [
    "x_test.drop('Y_Predicted', axis=1, inplace=True)"
   ]
  },
  {
   "cell_type": "code",
   "execution_count": 51,
   "id": "b51ca895",
   "metadata": {},
   "outputs": [],
   "source": [
    "svr_y_pred = svr.predict(x_test)"
   ]
  },
  {
   "cell_type": "markdown",
   "id": "d1fc81b0",
   "metadata": {},
   "source": [
    "Evaluation of Model Performance :"
   ]
  },
  {
   "cell_type": "code",
   "execution_count": 52,
   "id": "77966aed",
   "metadata": {},
   "outputs": [
    {
     "data": {
      "text/plain": [
       "0.5166550618405741"
      ]
     },
     "execution_count": 52,
     "metadata": {},
     "output_type": "execute_result"
    }
   ],
   "source": [
    "svr_r2 = r2_score(y_test, svr_y_pred)\n",
    "svr_r2"
   ]
  },
  {
   "cell_type": "code",
   "execution_count": 53,
   "id": "bf39720b",
   "metadata": {},
   "outputs": [
    {
     "data": {
      "text/plain": [
       "0.035262344389530756"
      ]
     },
     "execution_count": 53,
     "metadata": {},
     "output_type": "execute_result"
    }
   ],
   "source": [
    "svr_mse = mean_squared_error(y_test, svr_y_pred)\n",
    "svr_mse"
   ]
  },
  {
   "cell_type": "code",
   "execution_count": 54,
   "id": "e1cf16dc",
   "metadata": {},
   "outputs": [
    {
     "data": {
      "text/plain": [
       "0.1877827052460656"
      ]
     },
     "execution_count": 54,
     "metadata": {},
     "output_type": "execute_result"
    }
   ],
   "source": [
    "svr_rmse = np.sqrt(svr_mse)\n",
    "svr_rmse"
   ]
  },
  {
   "cell_type": "markdown",
   "id": "bcfc8f29",
   "metadata": {},
   "source": [
    "Visualize the Results of the Prediction :"
   ]
  },
  {
   "cell_type": "code",
   "execution_count": 55,
   "id": "4b66137d",
   "metadata": {},
   "outputs": [
    {
     "data": {
      "image/png": "[encoded data removed]",
      "text/plain": [
       "<Figure size 432x288 with 1 Axes>"
      ]
     },
     "metadata": {
      "needs_background": "light"
     },
     "output_type": "display_data"
    }
   ],
   "source": [
    "plt.scatter(y_test, svr_y_pred)\n",
    "plt.show()"
   ]
  },
  {
   "cell_type": "code",
   "execution_count": 56,
   "id": "474cbcd9",
   "metadata": {},
   "outputs": [
    {
     "data": {
      "image/png": "[encoded data removed]",
      "text/plain": [
       "<Figure size 360x360 with 1 Axes>"
      ]
     },
     "metadata": {
      "needs_background": "light"
     },
     "output_type": "display_data"
    },
    {
     "data": {
      "image/png": "[encoded data removed]",
      "text/plain": [
       "<Figure size 360x360 with 1 Axes>"
      ]
     },
     "metadata": {
      "needs_background": "light"
     },
     "output_type": "display_data"
    },
    {
     "data": {
      "image/png": "[encoded data removed]",
      "text/plain": [
       "<Figure size 360x360 with 1 Axes>"
      ]
     },
     "metadata": {
      "needs_background": "light"
     },
     "output_type": "display_data"
    },
    {
     "data": {
      "image/png": "[encoded data removed]",
      "text/plain": [
       "<Figure size 360x360 with 1 Axes>"
      ]
     },
     "metadata": {
      "needs_background": "light"
     },
     "output_type": "display_data"
    }
   ],
   "source": [
    "lin_regressor_plot = x_test\n",
    "lin_regressor_plot['Y_Predicted'] = svr_y_pred\n",
    "\n",
    "sns.lmplot(x='Signal_Strength', y='Y_Predicted', data=lin_regressor_plot)\n",
    "\n",
    "sns.lmplot(x='Latency', y='Y_Predicted', data=lin_regressor_plot)\n",
    "\n",
    "sns.lmplot(x='Required_Bandwidth', y='Y_Predicted', data=lin_regressor_plot)\n",
    "\n",
    "sns.lmplot(x='Allocated_Bandwidth', y='Y_Predicted', data=lin_regressor_plot)\n",
    "\n",
    "plt.tight_layout()\n",
    "plt.show()"
   ]
  },
  {
   "cell_type": "markdown",
   "id": "2fd72d02",
   "metadata": {},
   "source": [
    "## KNN Regression Model"
   ]
  },
  {
   "cell_type": "code",
   "execution_count": 57,
   "id": "ded96cf7",
   "metadata": {},
   "outputs": [],
   "source": [
    "from sklearn.neighbors import KNeighborsRegressor"
   ]
  },
  {
   "cell_type": "code",
   "execution_count": 58,
   "id": "9fb2be5e",
   "metadata": {},
   "outputs": [
    {
     "data": {
      "text/html": [
       "<style>#sk-container-id-3 {color: black;background-color: white;}#sk-container-id-3 pre{padding: 0;}#sk-container-id-3 div.sk-toggleable {background-color: white;}#sk-container-id-3 label.sk-toggleable__label {cursor: pointer;display: block;width: 100%;margin-bottom: 0;padding: 0.3em;box-sizing: border-box;text-align: center;}#sk-container-id-3 label.sk-toggleable__label-arrow:before {content: \"▸\";float: left;margin-right: 0.25em;color: #696969;}#sk-container-id-3 label.sk-toggleable__label-arrow:hover:before {color: black;}#sk-container-id-3 div.sk-estimator:hover label.sk-toggleable__label-arrow:before {color: black;}#sk-container-id-3 div.sk-toggleable__content {max-height: 0;max-width: 0;overflow: hidden;text-align: left;background-color: #f0f8ff;}#sk-container-id-3 div.sk-toggleable__content pre {margin: 0.2em;color: black;border-radius: 0.25em;background-color: #f0f8ff;}#sk-container-id-3 input.sk-toggleable__control:checked~div.sk-toggleable__content {max-height: 200px;max-width: 100%;overflow: auto;}#sk-container-id-3 input.sk-toggleable__control:checked~label.sk-toggleable__label-arrow:before {content: \"▾\";}#sk-container-id-3 div.sk-estimator input.sk-toggleable__control:checked~label.sk-toggleable__label {background-color: #d4ebff;}#sk-container-id-3 div.sk-label input.sk-toggleable__control:checked~label.sk-toggleable__label {background-color: #d4ebff;}#sk-container-id-3 input.sk-hidden--visually {border: 0;clip: rect(1px 1px 1px 1px);clip: rect(1px, 1px, 1px, 1px);height: 1px;margin: -1px;overflow: hidden;padding: 0;position: absolute;width: 1px;}#sk-container-id-3 div.sk-estimator {font-family: monospace;background-color: #f0f8ff;border: 1px dotted black;border-radius: 0.25em;box-sizing: border-box;margin-bottom: 0.5em;}#sk-container-id-3 div.sk-estimator:hover {background-color: #d4ebff;}#sk-container-id-3 div.sk-parallel-item::after {content: \"\";width: 100%;border-bottom: 1px solid gray;flex-grow: 1;}#sk-container-id-3 div.sk-label:hover label.sk-toggleable__label {background-color: #d4ebff;}#sk-container-id-3 div.sk-serial::before {content: \"\";position: absolute;border-left: 1px solid gray;box-sizing: border-box;top: 0;bottom: 0;left: 50%;z-index: 0;}#sk-container-id-3 div.sk-serial {display: flex;flex-direction: column;align-items: center;background-color: white;padding-right: 0.2em;padding-left: 0.2em;position: relative;}#sk-container-id-3 div.sk-item {position: relative;z-index: 1;}#sk-container-id-3 div.sk-parallel {display: flex;align-items: stretch;justify-content: center;background-color: white;position: relative;}#sk-container-id-3 div.sk-item::before, #sk-container-id-3 div.sk-parallel-item::before {content: \"\";position: absolute;border-left: 1px solid gray;box-sizing: border-box;top: 0;bottom: 0;left: 50%;z-index: -1;}#sk-container-id-3 div.sk-parallel-item {display: flex;flex-direction: column;z-index: 1;position: relative;background-color: white;}#sk-container-id-3 div.sk-parallel-item:first-child::after {align-self: flex-end;width: 50%;}#sk-container-id-3 div.sk-parallel-item:last-child::after {align-self: flex-start;width: 50%;}#sk-container-id-3 div.sk-parallel-item:only-child::after {width: 0;}#sk-container-id-3 div.sk-dashed-wrapped {border: 1px dashed gray;margin: 0 0.4em 0.5em 0.4em;box-sizing: border-box;padding-bottom: 0.4em;background-color: white;}#sk-container-id-3 div.sk-label label {font-family: monospace;font-weight: bold;display: inline-block;line-height: 1.2em;}#sk-container-id-3 div.sk-label-container {text-align: center;}#sk-container-id-3 div.sk-container {/* jupyter's `normalize.less` sets `[hidden] { display: none; }` but bootstrap.min.css set `[hidden] { display: none !important; }` so we also need the `!important` here to be able to override the default hidden behavior on the sphinx rendered scikit-learn.org. See: https://github.com/scikit-learn/scikit-learn/issues/21755 */display: inline-block !important;position: relative;}#sk-container-id-3 div.sk-text-repr-fallback {display: none;}</style><div id=\"sk-container-id-3\" class=\"sk-top-container\"><div class=\"sk-text-repr-fallback\"><pre>KNeighborsRegressor()</pre><b>In a Jupyter environment, please rerun this cell to show the HTML representation or trust the notebook. <br />On GitHub, the HTML representation is unable to render, please try loading this page with nbviewer.org.</b></div><div class=\"sk-container\" hidden><div class=\"sk-item\"><div class=\"sk-estimator sk-toggleable\"><input class=\"sk-toggleable__control sk-hidden--visually\" id=\"sk-estimator-id-3\" type=\"checkbox\" checked><label for=\"sk-estimator-id-3\" class=\"sk-toggleable__label sk-toggleable__label-arrow\">KNeighborsRegressor</label><div class=\"sk-toggleable__content\"><pre>KNeighborsRegressor()</pre></div></div></div></div></div>"
      ],
      "text/plain": [
       "KNeighborsRegressor()"
      ]
     },
     "execution_count": 58,
     "metadata": {},
     "output_type": "execute_result"
    }
   ],
   "source": [
    "knn_regr = KNeighborsRegressor(n_neighbors=5)\n",
    "knn_regr.fit(x_train, y_train)"
   ]
  },
  {
   "cell_type": "markdown",
   "id": "2eeb231c",
   "metadata": {},
   "source": [
    "Predict Test Set Results :"
   ]
  },
  {
   "cell_type": "code",
   "execution_count": 59,
   "id": "ae75ea51",
   "metadata": {},
   "outputs": [],
   "source": [
    "x_test.drop('Y_Predicted', axis=1, inplace=True)"
   ]
  },
  {
   "cell_type": "code",
   "execution_count": 60,
   "id": "fbf41d3b",
   "metadata": {},
   "outputs": [],
   "source": [
    "knn_y_pred = svr.predict(x_test)"
   ]
  },
  {
   "cell_type": "markdown",
   "id": "01534f66",
   "metadata": {},
   "source": [
    "Evaluation of Model Performance :"
   ]
  },
  {
   "cell_type": "code",
   "execution_count": 61,
   "id": "cb49e5f6",
   "metadata": {},
   "outputs": [
    {
     "data": {
      "text/plain": [
       "0.5166550618405741"
      ]
     },
     "execution_count": 61,
     "metadata": {},
     "output_type": "execute_result"
    }
   ],
   "source": [
    "knn_r2 = r2_score(y_test, knn_y_pred)\n",
    "knn_r2"
   ]
  },
  {
   "cell_type": "code",
   "execution_count": 62,
   "id": "667f27a3",
   "metadata": {},
   "outputs": [
    {
     "data": {
      "text/plain": [
       "0.035262344389530756"
      ]
     },
     "execution_count": 62,
     "metadata": {},
     "output_type": "execute_result"
    }
   ],
   "source": [
    "knn_mse = mean_squared_error(y_test, knn_y_pred)\n",
    "knn_mse"
   ]
  },
  {
   "cell_type": "code",
   "execution_count": 63,
   "id": "fe89ad7a",
   "metadata": {},
   "outputs": [
    {
     "data": {
      "text/plain": [
       "0.1877827052460656"
      ]
     },
     "execution_count": 63,
     "metadata": {},
     "output_type": "execute_result"
    }
   ],
   "source": [
    "knn_rmse = np.sqrt(knn_mse)\n",
    "knn_rmse"
   ]
  },
  {
   "cell_type": "markdown",
   "id": "8a53ca32",
   "metadata": {},
   "source": [
    "Visualize the Results of the Prediction :"
   ]
  },
  {
   "cell_type": "code",
   "execution_count": 64,
   "id": "00ce798c",
   "metadata": {},
   "outputs": [
    {
     "data": {
      "image/png": "[encoded data removed]",
      "text/plain": [
       "<Figure size 432x288 with 1 Axes>"
      ]
     },
     "metadata": {
      "needs_background": "light"
     },
     "output_type": "display_data"
    }
   ],
   "source": [
    "plt.scatter(y_test, knn_y_pred)\n",
    "plt.show()"
   ]
  },
  {
   "cell_type": "code",
   "execution_count": 65,
   "id": "9542dec0",
   "metadata": {},
   "outputs": [
    {
     "data": {
      "image/png": "[encoded data removed]",
      "text/plain": [
       "<Figure size 360x360 with 1 Axes>"
      ]
     },
     "metadata": {
      "needs_background": "light"
     },
     "output_type": "display_data"
    },
    {
     "data": {
      "image/png": "[encoded data removed]",
      "text/plain": [
       "<Figure size 360x360 with 1 Axes>"
      ]
     },
     "metadata": {
      "needs_background": "light"
     },
     "output_type": "display_data"
    },
    {
     "data": {
      "image/png": "[encoded data removed]",
      "text/plain": [
       "<Figure size 360x360 with 1 Axes>"
      ]
     },
     "metadata": {
      "needs_background": "light"
     },
     "output_type": "display_data"
    },
    {
     "data": {
      "image/png": "[encoded data removed]",
      "text/plain": [
       "<Figure size 360x360 with 1 Axes>"
      ]
     },
     "metadata": {
      "needs_background": "light"
     },
     "output_type": "display_data"
    }
   ],
   "source": [
    "lin_regressor_plot = x_test\n",
    "lin_regressor_plot['Y_Predicted'] = knn_y_pred\n",
    "\n",
    "sns.lmplot(x='Signal_Strength', y='Y_Predicted', data=lin_regressor_plot)\n",
    "\n",
    "sns.lmplot(x='Latency', y='Y_Predicted', data=lin_regressor_plot)\n",
    "\n",
    "sns.lmplot(x='Required_Bandwidth', y='Y_Predicted', data=lin_regressor_plot)\n",
    "\n",
    "sns.lmplot(x='Allocated_Bandwidth', y='Y_Predicted', data=lin_regressor_plot)\n",
    "\n",
    "plt.tight_layout()\n",
    "plt.show()"
   ]
  },
  {
   "cell_type": "markdown",
   "id": "24f1b1db",
   "metadata": {},
   "source": [
    "## Comparing Results of MLR, SVM and KNN Regression Models :"
   ]
  },
  {
   "cell_type": "code",
   "execution_count": 66,
   "id": "e7d2cecc",
   "metadata": {},
   "outputs": [
    {
     "data": {
      "image/png": "[encoded data removed]",
      "text/plain": [
       "<Figure size 432x288 with 1 Axes>"
      ]
     },
     "metadata": {
      "needs_background": "light"
     },
     "output_type": "display_data"
    }
   ],
   "source": [
    "categories = ['MLR', 'SVR', 'KNN']\n",
    "x = np.arange(len(categories))\n",
    "r2_scores = [lin_regressor_r2, svr_r2, knn_r2]\n",
    "mse_scores = [lin_regressor_mse, svr_mse, knn_mse]\n",
    "rmse_scores = [lin_regressor_rmse, svr_rmse, knn_rmse]\n",
    "\n",
    "width = 0.25\n",
    "fig, ax = plt.subplots()\n",
    "\n",
    "ax.bar(x, r2_scores, label='R2 Scores', width=0.25)\n",
    "ax.bar(x+width, mse_scores, label='MSE', width=0.25)\n",
    "ax.bar(x+2*width, rmse_scores, label='RMSE', width=0.25)\n",
    "\n",
    "plt.xlabel('Model Names')\n",
    "plt.ylabel('Score')\n",
    "plt.title('Compare Evaluation Metrics of MLR, SVR and KNN')\n",
    "plt.legend()  \n",
    "ax.set_xticks(x)\n",
    "ax.set_xticklabels(categories)\n",
    "\n",
    "plt.show()"
   ]
  },
  {
   "cell_type": "markdown",
   "id": "7976498f",
   "metadata": {},
   "source": [
    "## Thus, we can conclude that, SVR and KNN Regressor has similar performance.\n",
    "## Which is better than MLR(Multliple Linear Regression)\n",
    "\n",
    "Output : Resource Allocation -> Indenependent var -> Signal , latency , Required band , Allocated band . Resource predict :Resourec down. Complex Relation  4 var -> Effectively optimize . Preicted rsc effect -> On every four para. "
   ]
  }
 ],
 "metadata": {
  "kernelspec": {
   "display_name": "Python 3 (ipykernel)",
   "language": "python",
   "name": "python3"
  },
  "language_info": {
   "codemirror_mode": {
    "name": "ipython",
    "version": 3
   },
   "file_extension": ".py",
   "mimetype": "text/x-python",
   "name": "python",
   "nbconvert_exporter": "python",
   "pygments_lexer": "ipython3",
   "version": "3.10.9"
  }
 },
 "nbformat": 4,
 "nbformat_minor": 5
}
